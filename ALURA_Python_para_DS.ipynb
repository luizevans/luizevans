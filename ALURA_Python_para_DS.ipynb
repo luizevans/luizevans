{
  "nbformat": 4,
  "nbformat_minor": 0,
  "metadata": {
    "colab": {
      "provenance": [],
      "authorship_tag": "ABX9TyOvV7vFGNqWeORKCGJlslzy",
      "include_colab_link": true
    },
    "kernelspec": {
      "name": "python3",
      "display_name": "Python 3"
    },
    "language_info": {
      "name": "python"
    }
  },
  "cells": [
    {
      "cell_type": "markdown",
      "metadata": {
        "id": "view-in-github",
        "colab_type": "text"
      },
      "source": [
        "<a href=\"https://colab.research.google.com/github/luizevans/luizevans/blob/master/ALURA_Python_para_DS.ipynb\" target=\"_parent\"><img src=\"https://colab.research.google.com/assets/colab-badge.svg\" alt=\"Open In Colab\"/></a>"
      ]
    },
    {
      "cell_type": "markdown",
      "source": [
        "# Criando uma função"
      ],
      "metadata": {
        "id": "b1QPFlnWMUo9"
      }
    },
    {
      "cell_type": "code",
      "execution_count": null,
      "metadata": {
        "id": "xB863WnDEgGR"
      },
      "outputs": [],
      "source": [
        "def saudacao ():\n",
        "  nome = input('Qual o seu nome? ')\n",
        "  print(f'Olá {nome}, seja bem-vinda(o)!')"
      ]
    },
    {
      "cell_type": "code",
      "source": [
        "saudacao()"
      ],
      "metadata": {
        "colab": {
          "base_uri": "https://localhost:8080/"
        },
        "id": "XT5GqPkWM3Ml",
        "outputId": "3364c238-7ae0-4f7f-8361-3e1ce73f04ef"
      },
      "execution_count": null,
      "outputs": [
        {
          "output_type": "stream",
          "name": "stdout",
          "text": [
            "Qual o seu nome? Paula\n",
            "Olá Paula, seja bem-vinda!\n"
          ]
        }
      ]
    },
    {
      "cell_type": "markdown",
      "source": [
        "# Desafio Alura 01: Sabendo disso, com base no conteúdo visto em video, crie uma função chamada saudacao que quando executada, armazena o conteúdo digitado pelo usuário através da função input em uma variável chamada nome. Depois, utilize a função print para exibir uma mensagem de saudação **concatenando** o nome digitado."
      ],
      "metadata": {
        "id": "-EhVz-q7NY9t"
      }
    },
    {
      "cell_type": "code",
      "source": [
        "def saudacao():\n",
        "  name = input('Qual o seu nome? ')\n",
        "  print(f'Olá {name}!')"
      ],
      "metadata": {
        "id": "O5At6tFpNXOG"
      },
      "execution_count": null,
      "outputs": []
    },
    {
      "cell_type": "code",
      "source": [
        "saudacao()"
      ],
      "metadata": {
        "colab": {
          "base_uri": "https://localhost:8080/"
        },
        "id": "xPeCOJVpO-A9",
        "outputId": "afdb0183-ccea-4e83-ad8f-3380d5c54d50"
      },
      "execution_count": null,
      "outputs": [
        {
          "output_type": "stream",
          "name": "stdout",
          "text": [
            "Qual o seu nome? Paulo\n",
            "Olá Paulo!\n"
          ]
        }
      ]
    },
    {
      "cell_type": "markdown",
      "source": [
        "# Desafio Alura 02: Crie uma função similar a anterior porém com o nome completo, mas precisamente o usuário irá digitar o primeiro nome e o ultimo sobrenome separados e depois deve printar na tela o nome completo juntos."
      ],
      "metadata": {
        "id": "eDlALrbdPxyn"
      }
    },
    {
      "cell_type": "code",
      "source": [
        "def nome_completo():\n",
        "  first_name = str(input('Qual o seu primeiro nome? '))\n",
        "  last_name = str(input('Qual o seu ultimo sobrenome? '))\n",
        "  full_name = first_name + ' ' + last_name\n",
        "  print(f'Seu nome completo é {full_name}')"
      ],
      "metadata": {
        "id": "I-4SfzIaQLmP"
      },
      "execution_count": null,
      "outputs": []
    },
    {
      "cell_type": "code",
      "source": [
        "nome_completo()"
      ],
      "metadata": {
        "colab": {
          "base_uri": "https://localhost:8080/"
        },
        "id": "0zALmjFCQwdO",
        "outputId": "844d341c-1c25-40fb-be29-2844fd507b92"
      },
      "execution_count": null,
      "outputs": [
        {
          "output_type": "stream",
          "name": "stdout",
          "text": [
            "Qual o seu primeiro nome? Luiz\n",
            "Qual o seu ultimo sobrenome? Evangelista\n",
            "Seu nome completo é Luiz Evangelista\n"
          ]
        }
      ]
    },
    {
      "cell_type": "markdown",
      "source": [
        "# Função com Parâmetros"
      ],
      "metadata": {
        "id": "M56djp_TSOlX"
      }
    },
    {
      "cell_type": "code",
      "source": [
        "name = 'Carlos'\n",
        "def name_paramtro(nome_pessoa):\n",
        "  print(f'Olá, {nome_pessoa}')"
      ],
      "metadata": {
        "id": "oxeTVuipSYDm"
      },
      "execution_count": null,
      "outputs": []
    },
    {
      "cell_type": "code",
      "source": [
        "name_paramtro(name)"
      ],
      "metadata": {
        "colab": {
          "base_uri": "https://localhost:8080/"
        },
        "id": "oR-U3XZUSzxH",
        "outputId": "795d9dc7-40d9-4cb7-abec-5019d141fa82"
      },
      "execution_count": null,
      "outputs": [
        {
          "output_type": "stream",
          "name": "stdout",
          "text": [
            "Olá, Carlos\n"
          ]
        }
      ]
    },
    {
      "cell_type": "markdown",
      "source": [
        "# Condicional"
      ],
      "metadata": {
        "id": "iO_NJ07HTfLw"
      }
    },
    {
      "cell_type": "code",
      "source": [
        "idade = 21\n",
        "def verifica_se_pode_diridir(idade):\n",
        "  if idade >= 18:\n",
        "    print('Tem permissão para dirigir')\n",
        "  else:\n",
        "    print('Não tem idade para dirigir')\n",
        "\n",
        "verifica_se_pode_diridir(idade)"
      ],
      "metadata": {
        "colab": {
          "base_uri": "https://localhost:8080/"
        },
        "id": "-yAXmZJ5Ti-n",
        "outputId": "525d0cbe-beb1-44e5-8e38-88f90c92dbb7"
      },
      "execution_count": null,
      "outputs": [
        {
          "output_type": "stream",
          "name": "stdout",
          "text": [
            "Tem permissão para dirigir\n"
          ]
        }
      ]
    },
    {
      "cell_type": "code",
      "source": [
        "def verifica_se_pode_dirigir_sem_parametro():\n",
        "  idade = int(input('Qual a sau idade? '))\n",
        "  if idade >= 18:\n",
        "    print('Tem permissão para dirigir')\n",
        "  else:\n",
        "    print('Não tem idade para dirigir')\n",
        "\n",
        "verifica_se_pode_dirigir_sem_parametro()"
      ],
      "metadata": {
        "colab": {
          "base_uri": "https://localhost:8080/"
        },
        "id": "kTaE1x4aCME1",
        "outputId": "843a3f9d-c4e7-4964-f361-8391a77f6cf0"
      },
      "execution_count": null,
      "outputs": [
        {
          "output_type": "stream",
          "name": "stdout",
          "text": [
            "Qual a sau idade? 20\n",
            "Tem permissão para dirigir\n"
          ]
        }
      ]
    },
    {
      "cell_type": "markdown",
      "source": [
        "# Desafio Alura - 03 : Sabendo disso, crie uma função chamada verifica_se_pode_dirigir que recebe um parâmetro chamado idade e inclua uma condicional if para analisar se a idade é maior ou igual que 18 anos. Caso seja, exiba uma mensagem na tela dizendo que Tem permissão para dirigir. Senão(else), exiba a mensagem Não tem permissão para dirigir. Depois de executar, crie a mesma função sem parâmetros, que armazena a idade digitada pelo usuário ou usuária. Como todo valor digitado através do teclado é uma string, não esqueça de converter a idade com o código int(idade)."
      ],
      "metadata": {
        "id": "hdy2B2BgDg9z"
      }
    },
    {
      "cell_type": "code",
      "source": [
        "idade = 18\n",
        "def verifica_se_pode_dirigir(idade):\n",
        "  if idade >= 18:\n",
        "    print('Tem permissão para dirigir')\n",
        "  else:\n",
        "    print('Não tem permissão para dirigir')\n",
        "verifica_se_pode_dirigir(idade)"
      ],
      "metadata": {
        "colab": {
          "base_uri": "https://localhost:8080/"
        },
        "id": "sQ0VMlaADkD0",
        "outputId": "9b418c52-0ea0-4f11-b9f7-2ad510d7c227"
      },
      "execution_count": null,
      "outputs": [
        {
          "output_type": "stream",
          "name": "stdout",
          "text": [
            "Tem permissão para dirigir\n"
          ]
        }
      ]
    },
    {
      "cell_type": "code",
      "source": [
        "def verifica_se_pode_dirigir():\n",
        "  idade = int(input('Qual a sua idade? '))\n",
        "  if idade >= 18:\n",
        "    print('Tem permissão para dirigir')\n",
        "  else:\n",
        "    print('Não tem permissão para dirigir')\n",
        "verifica_se_pode_dirigir()"
      ],
      "metadata": {
        "colab": {
          "base_uri": "https://localhost:8080/"
        },
        "id": "WN_FLH8ZEYfF",
        "outputId": "39c6081a-1a40-4502-89ee-c402f68a00e2"
      },
      "execution_count": null,
      "outputs": [
        {
          "output_type": "stream",
          "name": "stdout",
          "text": [
            "Qual a sua idade? 12\n",
            "Não tem permissão para dirigir\n"
          ]
        }
      ]
    },
    {
      "cell_type": "markdown",
      "source": [
        "# Lista"
      ],
      "metadata": {
        "id": "Mx5nv-PdFU_N"
      }
    },
    {
      "cell_type": "code",
      "source": [
        "idades = [18, 22, 15, 50]\n",
        "type(idades)"
      ],
      "metadata": {
        "colab": {
          "base_uri": "https://localhost:8080/"
        },
        "id": "pqiQCQzXFa9X",
        "outputId": "7a289d20-daad-4efa-fa79-9bfa61698fbe"
      },
      "execution_count": null,
      "outputs": [
        {
          "output_type": "execute_result",
          "data": {
            "text/plain": [
              "list"
            ]
          },
          "metadata": {},
          "execution_count": 10
        }
      ]
    },
    {
      "cell_type": "code",
      "source": [
        "# pegar um item da lista\n",
        "idades[1]"
      ],
      "metadata": {
        "colab": {
          "base_uri": "https://localhost:8080/"
        },
        "id": "lJC2uaTEF6ss",
        "outputId": "51404a06-054f-4889-a784-37bc80c48a33"
      },
      "execution_count": null,
      "outputs": [
        {
          "output_type": "execute_result",
          "data": {
            "text/plain": [
              "22"
            ]
          },
          "metadata": {},
          "execution_count": 13
        }
      ]
    },
    {
      "cell_type": "code",
      "source": [
        "# Pegar de um determinado índice a outro\n",
        "idades[:3]"
      ],
      "metadata": {
        "colab": {
          "base_uri": "https://localhost:8080/"
        },
        "id": "TZUHcQhYGMSc",
        "outputId": "c6e30a60-3ff4-4f50-d82e-d8e3f98cf195"
      },
      "execution_count": null,
      "outputs": [
        {
          "output_type": "execute_result",
          "data": {
            "text/plain": [
              "[18, 22, 15]"
            ]
          },
          "metadata": {},
          "execution_count": 17
        }
      ]
    },
    {
      "cell_type": "code",
      "source": [
        "# Pegar o último\n",
        "idades[-1]"
      ],
      "metadata": {
        "colab": {
          "base_uri": "https://localhost:8080/"
        },
        "id": "xgz6_aqSGrIV",
        "outputId": "ed1d97c6-5de0-4466-9a31-60f172bf241d"
      },
      "execution_count": null,
      "outputs": [
        {
          "output_type": "execute_result",
          "data": {
            "text/plain": [
              "50"
            ]
          },
          "metadata": {},
          "execution_count": 14
        }
      ]
    },
    {
      "cell_type": "markdown",
      "source": [
        "# Laços e Loops"
      ],
      "metadata": {
        "id": "qcm8xOVMIRTP"
      }
    },
    {
      "cell_type": "code",
      "source": [
        "idades = [18, 22, 12, 15, 50]"
      ],
      "metadata": {
        "id": "paliAQU7Id2k"
      },
      "execution_count": null,
      "outputs": []
    },
    {
      "cell_type": "code",
      "source": [
        "def verifica_se_pode_dirigir(idade):\n",
        "  if idade >= 18:\n",
        "    print(f'{idade} pode dirigir!')\n",
        "  else:\n",
        "    print(f'{idade} não pode dirigir!')\n",
        "\n",
        "for idade in idades:\n",
        "  verifica_se_pode_dirigir(idade)"
      ],
      "metadata": {
        "colab": {
          "base_uri": "https://localhost:8080/"
        },
        "id": "P6bN7fvtIUHl",
        "outputId": "3e64909d-0d17-4d17-829f-2f06f2e9f958"
      },
      "execution_count": null,
      "outputs": [
        {
          "output_type": "stream",
          "name": "stdout",
          "text": [
            "18 pode dirigir!\n",
            "22 pode dirigir!\n",
            "12 não pode dirigir!\n",
            "15 não pode dirigir!\n",
            "50 pode dirigir!\n"
          ]
        }
      ]
    },
    {
      "cell_type": "code",
      "source": [
        "def verifica_se_pode_dirigir(idades):\n",
        "  for idade in idades:\n",
        "    if idade >= 18:\n",
        "      print(f'{idade} pode dirigir!')\n",
        "    else:\n",
        "      print(f'{idade} não pode dirigir!')\n",
        "verifica_se_pode_dirigir(idades)"
      ],
      "metadata": {
        "colab": {
          "base_uri": "https://localhost:8080/"
        },
        "id": "-7Wha3GrLApF",
        "outputId": "510af64e-0d2b-4145-c7aa-3ff61f405cc2"
      },
      "execution_count": null,
      "outputs": [
        {
          "output_type": "stream",
          "name": "stdout",
          "text": [
            "18 pode dirigir!\n",
            "22 pode dirigir!\n",
            "12 não pode dirigir!\n",
            "15 não pode dirigir!\n",
            "50 pode dirigir!\n"
          ]
        }
      ]
    },
    {
      "cell_type": "markdown",
      "source": [
        "# Booleano"
      ],
      "metadata": {
        "id": "r1f1WiPeMXFn"
      }
    },
    {
      "cell_type": "code",
      "source": [
        "permissoes = []\n",
        "idades = [20, 14, 40]\n",
        "def verifica_se_pode_dirigir(idades, permissoes):\n",
        "  for idade in idades:\n",
        "    if idade >= 18:\n",
        "      permissoes.append(True)\n",
        "    else:\n",
        "      permissoes.append(False)\n",
        "\n",
        "verifica_se_pode_dirigir(idades, permissoes)\n",
        "\n",
        "permissoes"
      ],
      "metadata": {
        "colab": {
          "base_uri": "https://localhost:8080/"
        },
        "id": "TKIhnyzjMY1t",
        "outputId": "8f81b796-4b0e-4603-f072-9ac714ceac34"
      },
      "execution_count": null,
      "outputs": [
        {
          "output_type": "execute_result",
          "data": {
            "text/plain": [
              "[True, False, True]"
            ]
          },
          "metadata": {},
          "execution_count": 43
        }
      ]
    },
    {
      "cell_type": "code",
      "source": [
        "def verifica_permissoes(permissoes):\n",
        "  for permissao in permissoes:\n",
        "    if permissao == True:\n",
        "      print('Tem premissão para dirigir!')\n",
        "    else:\n",
        "      print('Não tem permissão para dirigir!')\n",
        "\n",
        "verifica_permissoes(permissoes)"
      ],
      "metadata": {
        "colab": {
          "base_uri": "https://localhost:8080/"
        },
        "id": "e0m8owyGNNXN",
        "outputId": "6ec7a225-c779-4bd6-ed87-9a471ee670a5"
      },
      "execution_count": null,
      "outputs": [
        {
          "output_type": "stream",
          "name": "stdout",
          "text": [
            "Tem premissão para dirigir!\n",
            "Não tem permissão para dirigir!\n",
            "Tem premissão para dirigir!\n"
          ]
        }
      ]
    },
    {
      "cell_type": "markdown",
      "source": [
        "# Tipo de Listas"
      ],
      "metadata": {
        "id": "fJc0HIw1Pxz-"
      }
    },
    {
      "cell_type": "code",
      "source": [
        "lista = ['Guilherme', 28, True, 12.6]\n",
        "\n",
        "for elemento in lista:\n",
        "  print(f'O elemento {elemento} é do tipo {type(elemento)}')"
      ],
      "metadata": {
        "colab": {
          "base_uri": "https://localhost:8080/"
        },
        "id": "BeIALX5LNdJD",
        "outputId": "10503a34-4307-4987-df7f-4859c89a96f8"
      },
      "execution_count": null,
      "outputs": [
        {
          "output_type": "stream",
          "name": "stdout",
          "text": [
            "O elemento Guilherme é do tipo <class 'str'>\n",
            "O elemento 28 é do tipo <class 'int'>\n",
            "O elemento True é do tipo <class 'bool'>\n",
            "O elemento 12.6 é do tipo <class 'float'>\n"
          ]
        }
      ]
    },
    {
      "cell_type": "markdown",
      "source": [
        "# Import"
      ],
      "metadata": {
        "id": "60MKiD60RkK9"
      }
    },
    {
      "cell_type": "code",
      "source": [
        "from random import randrange, seed"
      ],
      "metadata": {
        "id": "_sKfoF7oRPs-"
      },
      "execution_count": null,
      "outputs": []
    },
    {
      "cell_type": "code",
      "source": [
        "seed(11)"
      ],
      "metadata": {
        "id": "JvbhbeFdSwA_"
      },
      "execution_count": null,
      "outputs": []
    },
    {
      "cell_type": "code",
      "source": [
        "randrange(0, 11)"
      ],
      "metadata": {
        "colab": {
          "base_uri": "https://localhost:8080/"
        },
        "id": "dIEVOpmARrZn",
        "outputId": "ebb5a5ec-c145-466b-e32f-d9573f099ad6"
      },
      "execution_count": null,
      "outputs": [
        {
          "output_type": "execute_result",
          "data": {
            "text/plain": [
              "8"
            ]
          },
          "metadata": {},
          "execution_count": 114
        }
      ]
    },
    {
      "cell_type": "code",
      "source": [
        "notas_matematica = []\n",
        "\n",
        "for notas in range(8):\n",
        "  notas_matematica.append(randrange(0, 11))\n",
        "\n",
        "notas_matematica"
      ],
      "metadata": {
        "colab": {
          "base_uri": "https://localhost:8080/"
        },
        "id": "DINIyyv6SApn",
        "outputId": "37e10abe-6b67-4beb-ce42-6cd592b026c7"
      },
      "execution_count": null,
      "outputs": [
        {
          "output_type": "execute_result",
          "data": {
            "text/plain": [
              "[7, 7, 8, 9, 3, 2, 8, 7]"
            ]
          },
          "metadata": {},
          "execution_count": 115
        }
      ]
    },
    {
      "cell_type": "markdown",
      "source": [
        "# Desafio Alura 04 : Sabendo disso, importe os métodos randrange e seed, crie 8 notas de 0 a 10, armazenando seu conteúdo numa variável chamada notas_matematica. Como os números gerados são chamados de pseudo aleatórios, utilize o método seed escolhendo um valor de referência."
      ],
      "metadata": {
        "id": "r6y75ZhiT2I2"
      }
    },
    {
      "cell_type": "code",
      "source": [
        "from random import randrange, seed"
      ],
      "metadata": {
        "id": "Q8BKdppyT7h-"
      },
      "execution_count": null,
      "outputs": []
    },
    {
      "cell_type": "code",
      "source": [
        "seed(10)\n",
        "randrange(0, 10)"
      ],
      "metadata": {
        "colab": {
          "base_uri": "https://localhost:8080/"
        },
        "id": "RtbVLiU6T-i2",
        "outputId": "9c3e5451-55da-4686-db3c-d5fb792af814"
      },
      "execution_count": null,
      "outputs": [
        {
          "output_type": "execute_result",
          "data": {
            "text/plain": [
              "9"
            ]
          },
          "metadata": {},
          "execution_count": 140
        }
      ]
    },
    {
      "cell_type": "code",
      "source": [
        "notas_provas = []\n",
        "\n",
        "for notas in range(8):\n",
        "  notas_provas.append(randrange(0, 10))\n",
        "notas_provas"
      ],
      "metadata": {
        "colab": {
          "base_uri": "https://localhost:8080/"
        },
        "id": "N8LFVTxoUE1O",
        "outputId": "659e4163-e01c-4450-a3c9-f63dd25da330"
      },
      "execution_count": null,
      "outputs": [
        {
          "output_type": "execute_result",
          "data": {
            "text/plain": [
              "[0, 6, 7, 9, 0, 3, 7, 7]"
            ]
          },
          "metadata": {},
          "execution_count": 141
        }
      ]
    },
    {
      "cell_type": "code",
      "source": [
        "lista = ['int', False, True, '18', 2020]\n",
        "for elemento in lista:\n",
        " print(type(elemento))\n"
      ],
      "metadata": {
        "colab": {
          "base_uri": "https://localhost:8080/"
        },
        "id": "Q739O1CUUzme",
        "outputId": "9b15a39e-83bc-48a7-f5ee-f50fc3265bd4"
      },
      "execution_count": null,
      "outputs": [
        {
          "output_type": "stream",
          "name": "stdout",
          "text": [
            "<class 'str'>\n",
            "<class 'bool'>\n",
            "<class 'bool'>\n",
            "<class 'str'>\n",
            "<class 'int'>\n"
          ]
        }
      ]
    },
    {
      "cell_type": "markdown",
      "source": [
        "# Graficos - MatplotLib"
      ],
      "metadata": {
        "id": "J9Ls0jRUVVW0"
      }
    },
    {
      "cell_type": "code",
      "source": [
        "import matplotlib.pyplot as plt\n"
      ],
      "metadata": {
        "id": "Gfuj9EuwVbzl"
      },
      "execution_count": null,
      "outputs": []
    },
    {
      "cell_type": "code",
      "source": [
        "x = list(range(1, 9))\n",
        "y = notas_matematica\n",
        "plt.plot(x, y, marker='o') # eixos e marcador\n",
        "plt.title('Notas de matemática') # Titulo\n",
        "plt.xlabel('Provas') #Título X\n",
        "plt.ylabel('Notas') #Título y\n",
        "plt.show()"
      ],
      "metadata": {
        "colab": {
          "base_uri": "https://localhost:8080/",
          "height": 295
        },
        "id": "FjXMYvBaVjuH",
        "outputId": "c70cf068-15b7-4e21-e467-09276c3710b3"
      },
      "execution_count": null,
      "outputs": [
        {
          "output_type": "display_data",
          "data": {
            "text/plain": [
              "<Figure size 432x288 with 1 Axes>"
            ],
            "image/png": "[encoded data removed]"
          },
          "metadata": {
            "needs_background": "light"
          }
        }
      ]
    },
    {
      "cell_type": "markdown",
      "source": [
        "# Desafio Alura 05 : Sabendo disso, importe o módulo matplotlib.pyplot, dando a ele o apelido plt geralmente dado pela comunidade Python. Em seguida, plote o gráfico das 8 notas de matemática, de forma que o eixo x indique as provas e no eixo y as notas, incluindo o título Notas de matemática."
      ],
      "metadata": {
        "id": "Z257xg5SYGHm"
      }
    },
    {
      "cell_type": "code",
      "source": [
        "x = list(range(1, 9))\n",
        "y = notas_matematica\n",
        "plt.plot(x, y, marker='o')\n",
        "plt.title('Prova de Matemática')\n",
        "plt.xlabel('Notas')\n",
        "plt.ylabel('Provas')\n",
        "plt.show()"
      ],
      "metadata": {
        "colab": {
          "base_uri": "https://localhost:8080/",
          "height": 295
        },
        "id": "UmC4-zZsYJNO",
        "outputId": "6d025bc6-47dc-416d-96ec-52dfaf987704"
      },
      "execution_count": null,
      "outputs": [
        {
          "output_type": "display_data",
          "data": {
            "text/plain": [
              "<Figure size 432x288 with 1 Axes>"
            ],
            "image/png": "[encoded data removed]"
          },
          "metadata": {
            "needs_background": "light"
          }
        }
      ]
    },
    {
      "cell_type": "code",
      "source": [
        "notas_matematica = ['Matemática',8,7,6,6,7,7,8,10]\n",
        "notas_portugues = ['Português',9,9,9,8,5,6,8,5]\n",
        "notas_geografia = ['Geografia',10,10,6,7,7,7,8,7]\n",
        "\n",
        "notas = [notas_matematica, notas_portugues, notas_geografia]"
      ],
      "metadata": {
        "id": "ses4p-JxWQjl"
      },
      "execution_count": null,
      "outputs": []
    },
    {
      "cell_type": "code",
      "source": [
        "for nota in notas:\n",
        " x = list(range(1, 9))\n",
        " y = nota[1:]\n",
        " plt.plot(x, y, marker='o')\n",
        " plt.xlabel('Provas')\n",
        " plt.ylabel('Notas')\n",
        " plt.title(nota[0])\n",
        " plt.show()"
      ],
      "metadata": {
        "colab": {
          "base_uri": "https://localhost:8080/",
          "height": 851
        },
        "id": "JsQ9lWVCZke3",
        "outputId": "c46f0603-021f-48a3-fef9-c49e01bc12f7"
      },
      "execution_count": null,
      "outputs": [
        {
          "output_type": "display_data",
          "data": {
            "text/plain": [
              "<Figure size 432x288 with 1 Axes>"
            ],
            "image/png": "[encoded data removed]"
          },
          "metadata": {
            "needs_background": "light"
          }
        },
        {
          "output_type": "display_data",
          "data": {
            "text/plain": [
              "<Figure size 432x288 with 1 Axes>"
            ],
            "image/png": "[encoded data removed]"
          },
          "metadata": {
            "needs_background": "light"
          }
        },
        {
          "output_type": "display_data",
          "data": {
            "text/plain": [
              "<Figure size 432x288 with 1 Axes>"
            ],
            "image/png": "[encoded data removed]"
          },
          "metadata": {
            "needs_background": "light"
          }
        }
      ]
    }
  ]
}