{
  "nbformat": 4,
  "nbformat_minor": 0,
  "metadata": {
    "colab": {
      "provenance": [],
      "authorship_tag": "ABX9TyMoEU2i8fdkDOIMaUxpvL77",
      "include_colab_link": true
    },
    "kernelspec": {
      "name": "python3",
      "display_name": "Python 3"
    },
    "language_info": {
      "name": "python"
    }
  },
  "cells": [
    {
      "cell_type": "markdown",
      "metadata": {
        "id": "view-in-github",
        "colab_type": "text"
      },
      "source": [
        "<a href=\"https://colab.research.google.com/github/luizevans/luizevans/blob/master/ALURA_Python_para_DS.ipynb\" target=\"_parent\"><img src=\"https://colab.research.google.com/assets/colab-badge.svg\" alt=\"Open In Colab\"/></a>"
      ]
    },
    {
      "cell_type": "markdown",
      "source": [
        "# Criando uma função"
      ],
      "metadata": {
        "id": "b1QPFlnWMUo9"
      }
    },
    {
      "cell_type": "code",
      "execution_count": 1,
      "metadata": {
        "id": "xB863WnDEgGR"
      },
      "outputs": [],
      "source": [
        "def saudacao ():\n",
        "  nome = input('Qual o seu nome? ')\n",
        "  print(f'Olá {nome}, seja bem-vinda(o)!')"
      ]
    },
    {
      "cell_type": "code",
      "source": [
        "saudacao()"
      ],
      "metadata": {
        "colab": {
          "base_uri": "https://localhost:8080/"
        },
        "id": "XT5GqPkWM3Ml",
        "outputId": "3364c238-7ae0-4f7f-8361-3e1ce73f04ef"
      },
      "execution_count": 3,
      "outputs": [
        {
          "output_type": "stream",
          "name": "stdout",
          "text": [
            "Qual o seu nome? Paula\n",
            "Olá Paula, seja bem-vinda!\n"
          ]
        }
      ]
    },
    {
      "cell_type": "markdown",
      "source": [
        "# Desafio Alura 01: Sabendo disso, com base no conteúdo visto em video, crie uma função chamada saudacao que quando executada, armazena o conteúdo digitado pelo usuário através da função input em uma variável chamada nome. Depois, utilize a função print para exibir uma mensagem de saudação **concatenando** o nome digitado."
      ],
      "metadata": {
        "id": "-EhVz-q7NY9t"
      }
    },
    {
      "cell_type": "code",
      "source": [
        "def saudacao():\n",
        "  name = input('Qual o seu nome? ')\n",
        "  print(f'Olá {name}!')"
      ],
      "metadata": {
        "id": "O5At6tFpNXOG"
      },
      "execution_count": 5,
      "outputs": []
    },
    {
      "cell_type": "code",
      "source": [
        "saudacao()"
      ],
      "metadata": {
        "colab": {
          "base_uri": "https://localhost:8080/"
        },
        "id": "xPeCOJVpO-A9",
        "outputId": "afdb0183-ccea-4e83-ad8f-3380d5c54d50"
      },
      "execution_count": 6,
      "outputs": [
        {
          "output_type": "stream",
          "name": "stdout",
          "text": [
            "Qual o seu nome? Paulo\n",
            "Olá Paulo!\n"
          ]
        }
      ]
    },
    {
      "cell_type": "markdown",
      "source": [
        "# Desafio Alura 02: Crie uma função similar a anterior porém com o nome completo, mas precisamente o usuário irá digitar o primeiro nome e o ultimo sobrenome separados e depois deve printar na tela o nome completo juntos."
      ],
      "metadata": {
        "id": "eDlALrbdPxyn"
      }
    },
    {
      "cell_type": "code",
      "source": [
        "def nome_completo():\n",
        "  first_name = str(input('Qual o seu primeiro nome? '))\n",
        "  last_name = str(input('Qual o seu ultimo sobrenome? '))\n",
        "  full_name = first_name + ' ' + last_name\n",
        "  print(f'Seu nome completo é {full_name}')"
      ],
      "metadata": {
        "id": "I-4SfzIaQLmP"
      },
      "execution_count": 7,
      "outputs": []
    },
    {
      "cell_type": "code",
      "source": [
        "nome_completo()"
      ],
      "metadata": {
        "colab": {
          "base_uri": "https://localhost:8080/"
        },
        "id": "0zALmjFCQwdO",
        "outputId": "844d341c-1c25-40fb-be29-2844fd507b92"
      },
      "execution_count": 8,
      "outputs": [
        {
          "output_type": "stream",
          "name": "stdout",
          "text": [
            "Qual o seu primeiro nome? Luiz\n",
            "Qual o seu ultimo sobrenome? Evangelista\n",
            "Seu nome completo é Luiz Evangelista\n"
          ]
        }
      ]
    },
    {
      "cell_type": "markdown",
      "source": [
        "# Função com Parâmetros"
      ],
      "metadata": {
        "id": "M56djp_TSOlX"
      }
    },
    {
      "cell_type": "code",
      "source": [
        "name = 'Carlos'\n",
        "def name_paramtro(nome_pessoa):\n",
        "  print(f'Olá, {nome_pessoa}')"
      ],
      "metadata": {
        "id": "oxeTVuipSYDm"
      },
      "execution_count": 11,
      "outputs": []
    },
    {
      "cell_type": "code",
      "source": [
        "name_paramtro(name)"
      ],
      "metadata": {
        "colab": {
          "base_uri": "https://localhost:8080/"
        },
        "id": "oR-U3XZUSzxH",
        "outputId": "795d9dc7-40d9-4cb7-abec-5019d141fa82"
      },
      "execution_count": 12,
      "outputs": [
        {
          "output_type": "stream",
          "name": "stdout",
          "text": [
            "Olá, Carlos\n"
          ]
        }
      ]
    },
    {
      "cell_type": "markdown",
      "source": [
        "# Condicional"
      ],
      "metadata": {
        "id": "iO_NJ07HTfLw"
      }
    },
    {
      "cell_type": "code",
      "source": [
        "idade = 21\n",
        "def verifica_se_pode_diridir(idade):\n",
        "  if idade >= 18:\n",
        "    print('Tem permissão para dirigir')\n",
        "  else:\n",
        "    print('Não tem idade para dirigir')\n",
        "\n",
        "verifica_se_pode_diridir(idade)"
      ],
      "metadata": {
        "colab": {
          "base_uri": "https://localhost:8080/"
        },
        "id": "-yAXmZJ5Ti-n",
        "outputId": "525d0cbe-beb1-44e5-8e38-88f90c92dbb7"
      },
      "execution_count": 16,
      "outputs": [
        {
          "output_type": "stream",
          "name": "stdout",
          "text": [
            "Tem permissão para dirigir\n"
          ]
        }
      ]
    }
  ]
}